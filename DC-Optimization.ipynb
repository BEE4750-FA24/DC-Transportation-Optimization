{
 "cells": [
  {
   "cell_type": "markdown",
   "metadata": {},
   "source": [
    "# BEE 4750 DC Transportation Optimization\n",
    "\n",
    "#### Group Members: Maya Zamor, MacKenzie Fountain, Noah Hartman, Raashid Husain"
   ]
  },
  {
   "cell_type": "markdown",
   "metadata": {},
   "source": [
    "Our project will minimize an objective function that calculates the net carbon dioxide emissions produced by tailpipe emissions from various sources of transportation; internal combustion engines (ICEs), electric vehicles (EVs), and buses (see Figure 1 for control volume). The scope of this project aims to include the CO2 emissions from one city. During our preliminary meeting, our team discussed using Ithaca as a model. Decision variables include the number of electric vehicles, gas vehicles, and buses. Constraints include the city’s capacity of gas vehicles and buses, the city’s EV infrastructure capacity, and any emissions standards/thresholds set by the EPA and/or NYSDEC. We chose this topic since we were interested in the cross-section of transportation and air pollution as the shift to electric vehicles expands.\n"
   ]
  },
  {
   "cell_type": "markdown",
   "metadata": {},
   "source": [
    "Attach figure"
   ]
  },
  {
   "cell_type": "markdown",
   "metadata": {},
   "source": [
    "CO2emmissions=[23334,2254,1,1];\n",
    "CO2emmissions.cat=['Gas','Electric','Bus','Train'];\n",
    "\n",
    "communters=552683;\n",
    "\n",
    "CO2/Mile=[400,125]\n",
    "\n"
   ]
  }
 ],
 "metadata": {
  "kernelspec": {
   "display_name": "Julia 1.10.5",
   "language": "julia",
   "name": "julia-1.10"
  },
  "language_info": {
   "file_extension": ".jl",
   "mimetype": "application/julia",
   "name": "julia",
   "version": "1.10.5"
  }
 },
 "nbformat": 4,
 "nbformat_minor": 2
}
