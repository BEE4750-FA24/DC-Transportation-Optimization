{
 "cells": [
  {
   "cell_type": "markdown",
   "metadata": {},
   "source": [
    "# BEE 4750 DC Transportation Optimization\n",
    "\n",
    "#### Group Members: Maya Zamor, MacKenzie Fountain, Noah Hartman, Raashid Husain"
   ]
  },
  {
   "cell_type": "markdown",
   "metadata": {},
   "source": [
    "Our project will minimize an objective function that calculates the net carbon dioxide emissions produced by tailpipe emissions from various sources of transportation; internal combustion engines (ICEs), electric vehicles (EVs), and buses. The scope of this project aims to include the CO2 emissions from one city. During our preliminary meeting, our team discussed using Ithaca as a model. Decision variables include the number of electric vehicles, gas vehicles, and buses. Constraints include the city’s capacity of gas vehicles and buses, the city’s EV infrastructure capacity, and any emissions standards/thresholds set by the EPA and/or NYSDEC. We chose this topic since we were interested in the cross-section of transportation and air pollution as the shift to electric vehicles expands.\n"
   ]
  },
  {
   "cell_type": "code",
   "execution_count": null,
   "metadata": {},
   "outputs": [],
   "source": [
    "import Pkg\n",
    "Pkg.activate(@__DIR__)\n",
    "Pkg.instantiate()"
   ]
  },
  {
   "cell_type": "code",
   "execution_count": null,
   "metadata": {},
   "outputs": [],
   "source": [
    "import Pkg; Pkg.add(\"JuMP\")\n",
    "import Pkg; Pkg.add(\"HiGHS\")\n",
    "import Pkg; Pkg.add(\"DataFrames\")\n",
    "import Pkg; Pkg.add(\"GraphRecipes\")\n",
    "import Pkg; Pkg.add(\"Plots\")\n",
    "import Pkg; Pkg.add(\"Measures\")\n",
    "import Pkg; Pkg.add(\"MarkdownTables\")"
   ]
  },
  {
   "cell_type": "code",
   "execution_count": 3,
   "metadata": {},
   "outputs": [],
   "source": [
    "using JuMP\n",
    "using HiGHS\n",
    "using DataFrames\n",
    "using GraphRecipes\n",
    "using Plots\n",
    "using Measures\n",
    "using MarkdownTables"
   ]
  },
  {
   "cell_type": "markdown",
   "metadata": {},
   "source": [
    "\n",
    "\n",
    "\n",
    "#### Average Distance Traveled per Mode of Transportation\n",
    "\n",
    "|   Transportation   | Distance (miles) |\n",
    "|:--------:|:---------------|\n",
    "|    Gas   |       1      |\n",
    "| Electric |       2     |\n",
    "|    Bus   |       3     |\n",
    "|   Train  |       4     |\n",
    "\n",
    ".\n",
    "\n",
    "|   Transportation   | CO2 emissions (lb/yr) | CO2 per Mile (g/mile)| \n",
    "|:--------:|:--------------------------:|:---------------------:|\n",
    "|    Gas   |            350             |         0.xx          |\n",
    "| Electric |            280             |         0.xx          |\n",
    "|    Bus   |            390             |         0.xx          |\n",
    "|   Train  |            390             |         0.xx          |\n",
    "\n",
    ".\n",
    "\n",
    "|   Transportation   | Cost ($/year) |\n",
    "|:--------:|:---------------|\n",
    "|    Gas   |       1      |\n",
    "| Electric |       2     |\n",
    "|    Bus   |       3     |\n",
    "|   Train  |       4     |"
   ]
  },
  {
   "cell_type": "code",
   "execution_count": 58,
   "metadata": {},
   "outputs": [
    {
     "data": {
      "text/plain": [
       "4-element Vector{Float64}:\n",
       " 13.1\n",
       " 13.1\n",
       " 11.24\n",
       " 10.02"
      ]
     },
     "metadata": {},
     "output_type": "display_data"
    }
   ],
   "source": [
    "Transportation = [\"Gas\", \"Electric\", \"Bus\", \"Train\"]\n",
    "\n",
    "CO2emissions=[23334,2254,1,1];\n",
    "#Amount of CO2 emmissions per year correspoinsing to each mode of transportation; in units of lbs/year\n",
    "\n",
    "#CO2_per_Mile=[400,125,1,1];\n",
    "#Amount of CO2 emmissions per mile correspoinsing to each mode of transportation; in units of grams/mile\n",
    "\n",
    "Capacity_transportation=[112,1211,1571,1];\n",
    "#capacity of each mode of transportation; Gas stations, EV Charging ports, Total amount of busses, Total amount of trains\n",
    "\n",
    "commuters=9974;\n",
    "#population of DC residents who are over 18 years old\n",
    "\n",
    "max_fleet_size= 298400\n",
    "\n",
    "max_budget= 30000\n",
    "\n",
    "Cost_transportation=[]\n",
    "\n",
    "Distance_transportation=[13.1,13.1,11.24,10.02]\n",
    "\n",
    "#target_EVs is at least 25% of all vechiles"
   ]
  },
  {
   "cell_type": "code",
   "execution_count": 59,
   "metadata": {},
   "outputs": [
    {
     "data": {
      "text/latex": [
       "$$ 0.25 G - 0.75 E + 0.25 B + 0.25 T \\leq 0 $$"
      ],
      "text/plain": [
       "0.25 G - 0.75 E + 0.25 B + 0.25 T ≤ 0"
      ]
     },
     "metadata": {},
     "output_type": "display_data"
    }
   ],
   "source": [
    "m = Model(HiGHS.Optimizer)\n",
    "\n",
    "@variable(m, G >= 0)\n",
    "@variable(m, E >= 0)\n",
    "@variable(m, B >= 0)\n",
    "@variable(m, T >= 0)\n",
    "\n",
    "@objective(m, Min, ((400)G+(125)E+(168.75)B+(117)T))\n",
    "\n",
    "@constraint(m, (G+E+B+T >= commuters))\n",
    "@constraint(m, (G+E <= max_fleet_size))\n",
    "@constraint(m, (0.17*G+0.05*E+0.2*B+0.474*T <= max_budget))\n",
    "@constraint(m, (0.25*(G+E+B+T) <= E))\n",
    "\n"
   ]
  },
  {
   "cell_type": "code",
   "execution_count": 60,
   "metadata": {},
   "outputs": [
    {
     "name": "stdout",
     "output_type": "stream",
     "text": [
      "Running HiGHS 1.8.1 (git hash: 4a7f24ac6): Copyright (c) 2024 HiGHS under MIT licence terms\n",
      "Coefficient ranges:\n",
      "  Matrix [5e-02, 1e+00]\n",
      "  Cost   [1e+02, 4e+02]\n",
      "  Bound  [0e+00, 0e+00]\n",
      "  RHS    [3e+04, 3e+05]\n",
      "Presolving model\n",
      "4 rows, 4 cols, 14 nonzeros  0s\n",
      "4 rows, 4 cols, 14 nonzeros  0s\n",
      "Presolve : Reductions: rows 4(-0); columns 4(-0); elements 14(-0) - Not reduced\n",
      "Problem not reduced by presolve: solving the LP\n",
      "Using EKK dual simplex solver - serial\n",
      "  Iteration        Objective     Infeasibilities num(sum)\n",
      "          0     0.0000000000e+00 Pr: 1(7500) 0s\n",
      "          2     3.5700000000e+06 Pr: 0(0) 0s\n",
      "Model status        : Optimal\n",
      "Simplex   iterations: 2\n",
      "Objective value     :  3.5700000000e+06\n",
      "Relative P-D gap    :  0.0000000000e+00\n",
      "HiGHS run time      :          0.00\n"
     ]
    },
    {
     "ename": "Base.Meta.ParseError",
     "evalue": "ParseError:\n# Error @ /Users/mkfou/BEE 4750/DC-Transportation-Optimization/jl_notebook_cell_df34fa98e69747e1a8f8a730347b8e2f_X36sZmlsZQ==.jl:2:19\noptimize!(m)\nobjective_value(m)@show \n#                 └───┘ ── extra tokens after end of expression",
     "output_type": "error",
     "traceback": [
      "ParseError:\n",
      "# Error @ /Users/mkfou/BEE 4750/DC-Transportation-Optimization/jl_notebook_cell_df34fa98e69747e1a8f8a730347b8e2f_X36sZmlsZQ==.jl:2:19\n",
      "optimize!(m)\n",
      "objective_value(m)@show \n",
      "#                 └───┘ ── extra tokens after end of expression\n",
      "\n",
      "Stacktrace:\n",
      " [1] top-level scope\n",
      "   @ ~/BEE 4750/DC-Transportation-Optimization/jl_notebook_cell_df34fa98e69747e1a8f8a730347b8e2f_X36sZmlsZQ==.jl:2"
     ]
    }
   ],
   "source": [
    "optimize!(m)\n",
    "objective_value(m)@show "
   ]
  },
  {
   "cell_type": "code",
   "execution_count": 61,
   "metadata": {},
   "outputs": [
    {
     "name": "stdout",
     "output_type": "stream",
     "text": [
      "value.(G) = 0.0\n",
      "value.(E) = 7500.0\n",
      "value.(B) = 0.0\n",
      "value.(T) = 22500.0\n"
     ]
    }
   ],
   "source": [
    "@show value.(G);\n",
    "@show value.(E);\n",
    "@show value.(B);\n",
    "@show value.(T);"
   ]
  },
  {
   "cell_type": "code",
   "execution_count": 62,
   "metadata": {},
   "outputs": [
    {
     "ename": "MethodError",
     "evalue": "MethodError: no method matching shadow_price(::VariableRef)\n\nClosest candidates are:\n  shadow_price(!Matched::ConstraintRef{<:AbstractModel, MathOptInterface.ConstraintIndex{F, S}}) where {S<:MathOptInterface.EqualTo, F}\n   @ JuMP ~/.julia/packages/JuMP/i68GU/src/constraints.jl:1540\n  shadow_price(!Matched::ConstraintRef{<:AbstractModel, MathOptInterface.ConstraintIndex{F, S}}) where {S<:MathOptInterface.GreaterThan, F}\n   @ JuMP ~/.julia/packages/JuMP/i68GU/src/constraints.jl:1527\n  shadow_price(!Matched::ConstraintRef{<:AbstractModel, MathOptInterface.ConstraintIndex{F, S}}) where {S<:MathOptInterface.LessThan, F}\n   @ JuMP ~/.julia/packages/JuMP/i68GU/src/constraints.jl:1514\n  ...\n",
     "output_type": "error",
     "traceback": [
      "MethodError: no method matching shadow_price(::VariableRef)\n",
      "\n",
      "Closest candidates are:\n",
      "  shadow_price(!Matched::ConstraintRef{<:AbstractModel, MathOptInterface.ConstraintIndex{F, S}}) where {S<:MathOptInterface.EqualTo, F}\n",
      "   @ JuMP ~/.julia/packages/JuMP/i68GU/src/constraints.jl:1540\n",
      "  shadow_price(!Matched::ConstraintRef{<:AbstractModel, MathOptInterface.ConstraintIndex{F, S}}) where {S<:MathOptInterface.GreaterThan, F}\n",
      "   @ JuMP ~/.julia/packages/JuMP/i68GU/src/constraints.jl:1527\n",
      "  shadow_price(!Matched::ConstraintRef{<:AbstractModel, MathOptInterface.ConstraintIndex{F, S}}) where {S<:MathOptInterface.LessThan, F}\n",
      "   @ JuMP ~/.julia/packages/JuMP/i68GU/src/constraints.jl:1514\n",
      "  ...\n",
      "\n",
      "\n",
      "Stacktrace:\n",
      " [1] macro expansion\n",
      "   @ show.jl:1181 [inlined]\n",
      " [2] top-level scope\n",
      "   @ ~/BEE 4750/DC-Transportation-Optimization/jl_notebook_cell_df34fa98e69747e1a8f8a730347b8e2f_X40sZmlsZQ==.jl:1"
     ]
    }
   ],
   "source": [
    "@show shadow_price(G)\n",
    "@show shadow_price(E)\n",
    "@show shadow_price(B)\n",
    "@show shadow_price(T)"
   ]
  }
 ],
 "metadata": {
  "kernelspec": {
   "display_name": "Julia 1.10.5",
   "language": "julia",
   "name": "julia-1.10"
  },
  "language_info": {
   "file_extension": ".jl",
   "mimetype": "application/julia",
   "name": "julia",
   "version": "1.10.5"
  }
 },
 "nbformat": 4,
 "nbformat_minor": 2
}
