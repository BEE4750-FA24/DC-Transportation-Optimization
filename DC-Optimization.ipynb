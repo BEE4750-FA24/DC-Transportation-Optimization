{
 "cells": [
  {
   "cell_type": "markdown",
   "metadata": {},
   "source": [
    "# BEE 4750 DC Transportation Optimization\n",
    "\n",
    "#### Group Members: Maya Zamor, MacKenzie Fountain, Noah Hartman, Raashid Husain"
   ]
  },
  {
   "cell_type": "markdown",
   "metadata": {},
   "source": [
    "Our project will minimize an objective function that calculates the net carbon dioxide emissions produced by tailpipe emissions from various sources of transportation; internal combustion engines (ICEs), electric vehicles (EVs), and buses. The scope of this project aims to include the CO2 emissions from one city. During our preliminary meeting, our team discussed using Ithaca as a model. Decision variables include the number of electric vehicles, gas vehicles, and buses. Constraints include the city’s capacity of gas vehicles and buses, the city’s EV infrastructure capacity, and any emissions standards/thresholds set by the EPA and/or NYSDEC. We chose this topic since we were interested in the cross-section of transportation and air pollution as the shift to electric vehicles expands.\n"
   ]
  },
  {
   "cell_type": "code",
   "execution_count": null,
   "metadata": {},
   "outputs": [],
   "source": [
    "import Pkg\n",
    "Pkg.activate(@__DIR__)\n",
    "Pkg.instantiate()"
   ]
  },
  {
   "cell_type": "code",
   "execution_count": null,
   "metadata": {},
   "outputs": [],
   "source": [
    "import Pkg; Pkg.add(\"JuMP\")\n",
    "import Pkg; Pkg.add(\"HiGHS\")\n",
    "import Pkg; Pkg.add(\"DataFrames\")\n",
    "import Pkg; Pkg.add(\"GraphRecipes\")\n",
    "import Pkg; Pkg.add(\"Plots\")\n",
    "import Pkg; Pkg.add(\"Measures\")\n",
    "import Pkg; Pkg.add(\"MarkdownTables\")"
   ]
  },
  {
   "cell_type": "code",
   "execution_count": 3,
   "metadata": {},
   "outputs": [],
   "source": [
    "using JuMP\n",
    "using HiGHS\n",
    "using DataFrames\n",
    "using GraphRecipes\n",
    "using Plots\n",
    "using Measures\n",
    "using MarkdownTables"
   ]
  },
  {
   "cell_type": "markdown",
   "metadata": {},
   "source": [
    "\n",
    "\n",
    "\n",
    "#### Average Distance Traveled per Mode of Transportation\n",
    "\n",
    "|   Transportation   | Distance (miles) |\n",
    "|:--------:|:---------------|\n",
    "|    Gas   |       1      |\n",
    "| Electric |       2     |\n",
    "|    Bus   |       3     |\n",
    "|   Train  |       4     |\n",
    "\n",
    ".\n",
    "\n",
    "|   Transportation   | CO2 emissions (lb/yr) | CO2 per Mile (g/mile)| \n",
    "|:--------:|:--------------------------:|:---------------------:|\n",
    "|    Gas   |            350             |         0.xx          |\n",
    "| Electric |            280             |         0.xx          |\n",
    "|    Bus   |            390             |         0.xx          |\n",
    "|   Train  |            390             |         0.xx          |\n",
    "\n",
    ".\n",
    "\n",
    "|   Transportation   | Cost ($/year) |\n",
    "|:--------:|:---------------|\n",
    "|    Gas   |       1      |\n",
    "| Electric |       2     |\n",
    "|    Bus   |       3     |\n",
    "|   Train  |       4     |"
   ]
  },
  {
   "cell_type": "code",
   "execution_count": null,
   "metadata": {},
   "outputs": [],
   "source": [
    "Transportation = [\"Gas\", \"Electric\", \"Bus\", \"Train\"]\n",
    "\n",
    "CO2emissions=[23334,2254,1,1];\n",
    "#Amount of CO2 emmissions per year correspoinsing to each mode of transportation; in units of lbs/year\n",
    "\n",
    "#CO2_per_Mile=[400,125,1,1];\n",
    "#Amount of CO2 emmissions per mile correspoinsing to each mode of transportation; in units of grams/mile\n",
    "\n",
    "Capacity_transportation=[112,1211,1571,1];\n",
    "#capacity of each mode of transportation; Gas stations, EV Charging ports, Total amount of busses, Total amount of trains\n",
    "\n",
    "commuters=9974;\n",
    "#population of DC residents who are over 18 years old\n",
    "\n",
    "max_fleet_size= 298400\n",
    "\n",
    "max_budget= 30000\n",
    "\n",
    "Cost_transportation=[]\n",
    "\n",
    "Distance_transportation=[13.1,13.1,11.24,10.02]\n",
    "\n",
    "#target_EVs is at least 25% of all vechiles"
   ]
  },
  {
   "cell_type": "code",
   "execution_count": null,
   "metadata": {},
   "outputs": [],
   "source": [
    "m = Model(HiGHS.Optimizer)\n",
    "\n",
    "@variable(m, G >= 0)\n",
    "@variable(m, E >= 0)\n",
    "@variable(m, B >= 0)\n",
    "@variable(m, T >= 0)\n",
    "\n",
    "@objective(m, Min, ((400)G+(125)E+(168.75)B+(117)T))\n",
    "\n",
    "@constraint(m, (G+E+B+T >= commuters))\n",
    "@constraint(m, (G+E <= max_fleet_size))\n",
    "@constraint(m, (0.17*G+0.05*E+0.2*B+0.474*T <= max_budget))\n",
    "@constraint(m, (0.25*(G+E+B+T) <= E))\n",
    "\n"
   ]
  },
  {
   "cell_type": "code",
   "execution_count": null,
   "metadata": {},
   "outputs": [],
   "source": [
    "optimize!(m)\n",
    "objective_value(m)@show "
   ]
  },
  {
   "cell_type": "code",
   "execution_count": null,
   "metadata": {},
   "outputs": [],
   "source": [
    "@show value.(G);\n",
    "@show value.(E);\n",
    "@show value.(B);\n",
    "@show value.(T);"
   ]
  },
  {
   "cell_type": "code",
   "execution_count": null,
   "metadata": {},
   "outputs": [],
   "source": [
    "@show shadow_price(G)\n",
    "@show shadow_price(E)\n",
    "@show shadow_price(B)\n",
    "@show shadow_price(T)"
   ]
  }
 ],
 "metadata": {
  "kernelspec": {
   "display_name": "Julia 1.10.5",
   "language": "julia",
   "name": "julia-1.10"
  },
  "language_info": {
   "file_extension": ".jl",
   "mimetype": "application/julia",
   "name": "julia",
   "version": "1.10.5"
  }
 },
 "nbformat": 4,
 "nbformat_minor": 2
}
