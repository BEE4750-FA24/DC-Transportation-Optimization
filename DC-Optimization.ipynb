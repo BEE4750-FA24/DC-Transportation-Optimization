{
 "cells": [
  {
   "cell_type": "markdown",
   "metadata": {},
   "source": [
    "# BEE 4750 DC Transportation Optimization\n",
    "\n",
    "#### Group Members: Maya Zamor, MacKenzie Fountain, Noah Hartman, Raashid Husain"
   ]
  },
  {
   "cell_type": "markdown",
   "metadata": {},
   "source": [
    "Our project will minimize an objective function that calculates the net carbon dioxide emissions produced by tailpipe emissions from various sources of transportation; internal combustion engines (ICEs), electric vehicles (EVs), and buses. The scope of this project aims to include the CO2 emissions from one city. During our preliminary meeting, our team discussed using Ithaca as a model. Decision variables include the number of electric vehicles, gas vehicles, and buses. Constraints include the city’s capacity of gas vehicles and buses, the city’s EV infrastructure capacity, and any emissions standards/thresholds set by the EPA and/or NYSDEC. We chose this topic since we were interested in the cross-section of transportation and air pollution as the shift to electric vehicles expands.\n"
   ]
  },
  {
   "cell_type": "code",
   "execution_count": null,
   "metadata": {},
   "outputs": [],
   "source": [
    "import Pkg\n",
    "Pkg.activate(@__DIR__)\n",
    "Pkg.instantiate()"
   ]
  },
  {
   "cell_type": "code",
   "execution_count": null,
   "metadata": {},
   "outputs": [],
   "source": [
    "import Pkg; Pkg.add(\"JuMP\")\n",
    "import Pkg; Pkg.add(\"HiGHS\")\n",
    "import Pkg; Pkg.add(\"DataFrames\")\n",
    "import Pkg; Pkg.add(\"GraphRecipes\")\n",
    "import Pkg; Pkg.add(\"Plots\")\n",
    "import Pkg; Pkg.add(\"Measures\")\n",
    "import Pkg; Pkg.add(\"MarkdownTables\")"
   ]
  },
  {
   "cell_type": "code",
   "execution_count": 19,
   "metadata": {},
   "outputs": [],
   "source": [
    "using JuMP\n",
    "using HiGHS\n",
    "using DataFrames\n",
    "using GraphRecipes\n",
    "using Plots\n",
    "using Measures\n",
    "using MarkdownTables"
   ]
  },
  {
   "cell_type": "markdown",
   "metadata": {},
   "source": [
    "\n",
    "|   Transportation   | CO2emissions (CO2/yr) | CO2 per Mile (CO2/M)| \n",
    "|:--------:|:--------------------------:|:---------------------:|\n",
    "|    Gas   |            350             |         0.36          |\n",
    "| Electric |            280             |         0.27          |\n",
    "|    Bus   |            390             |         0.22          |\n",
    "|   Train  |            390             |         0.22          |"
   ]
  },
  {
   "cell_type": "markdown",
   "metadata": {},
   "source": [
    "#### Capacity\n",
    "The capacity of the transportation types id defined by either the amount of gas/charging stations or the total amount of the public transportaion vechiles\n",
    "\n",
    "|   Transportation   | Capacity |\n",
    "|:--------:|:---------------|\n",
    "|    Gas   |       112      |\n",
    "| Electric |       1211     |\n",
    "|    Bus   |       1571     |\n",
    "|   Train  |       1571     |"
   ]
  },
  {
   "cell_type": "code",
   "execution_count": null,
   "metadata": {},
   "outputs": [],
   "source": [
    "Transportation = [\"Gas\", \"Electric\", \"Bus\", \"Train\"]\n",
    "CO2emissions=[23334,2254,1,1];\n",
    "#Amount of CO2 emmissions per year correspoinsing to each mode of transportation; in units of lbs/year\n",
    "CO2_per_Mile=[400,125,1,1];\n",
    "#Amount of CO2 emmissions per mile correspoinsing to each mode of transportation; in units of grams/mile\n",
    "communters=552683;\n",
    "#population of DC residents who are over 18 years old\n",
    "Capacity_transportation=[112,1211,1571,1];\n",
    "#capacity of each mode of transportation; Gas stations, EV Charging ports, Total amount of busses, Total amount of trains"
   ]
  },
  {
   "cell_type": "markdown",
   "metadata": {},
   "source": [
    "m = DC_Transportation_Model(HiGHS.Optimizer)\n",
    "\n",
    "@variable(m, G >= 0)\n",
    "@variable(m, E >= 0)\n",
    "@variable(m, B >= 0)\n",
    "@variable(m, T >= 0)\n",
    "\n",
    "@objective(m, Main, #equation/s)\n",
    "\n",
    "@constraint(m, (G <= #capacity) \n",
    "@constraint(m, (E <= #capacity) \n",
    "@constraint(m, (B <= #capacity)\n",
    "@constraint(m, (T <= #capacity)\n",
    "\n"
   ]
  }
 ],
 "metadata": {
  "kernelspec": {
   "display_name": "Julia 1.10.5",
   "language": "julia",
   "name": "julia-1.10"
  },
  "language_info": {
   "file_extension": ".jl",
   "mimetype": "application/julia",
   "name": "julia",
   "version": "1.10.5"
  }
 },
 "nbformat": 4,
 "nbformat_minor": 2
}
